{
 "cells": [
  {
   "cell_type": "markdown",
   "metadata": {},
   "source": [
    "# Gradient Descent | Minimizing Loss "
   ]
  },
  {
   "cell_type": "code",
   "execution_count": 1,
   "metadata": {},
   "outputs": [],
   "source": [
    "import matplotlib.pyplot as plt"
   ]
  },
  {
   "cell_type": "code",
   "execution_count": 2,
   "metadata": {},
   "outputs": [],
   "source": [
    "#Gradient Descent for Intercept\n",
    "def get_gradient_at_b(x, y, b, m):\n",
    "    diff = 0\n",
    "    N=len(x)\n",
    "    for i in range(N):\n",
    "        y_val = y[i]\n",
    "        x_val = x[i]\n",
    "        diff += (y_val - ((m * x_val) + b))\n",
    "\n",
    "    b_gradient = -2/N * diff\n",
    "    return b_gradient"
   ]
  },
  {
   "cell_type": "code",
   "execution_count": 3,
   "metadata": {},
   "outputs": [],
   "source": [
    "#Gradient Descent for Slope\n",
    "def get_gradient_at_m(x,y,b,m):\n",
    "    diff=0\n",
    "    N=len(x)\n",
    "    for i in range(N):\n",
    "        y_val=y[i]\n",
    "        x_val=x[i]\n",
    "        diff+=x[i]*(y_val-((m*x_val)+b))\n",
    "        \n",
    "    m_gradient = (-2/N)*diff\n",
    "    return m_gradient"
   ]
  },
  {
   "cell_type": "code",
   "execution_count": 4,
   "metadata": {},
   "outputs": [],
   "source": [
    "def step_gradient(b_current, m_current, x, y,learning_rate):\n",
    "    b_gradient = get_gradient_at_b(x, y, b_current, m_current)\n",
    "    m_gradient = get_gradient_at_m(x, y, b_current, m_current)\n",
    "    b = b_current - (learning_rate* b_gradient)\n",
    "    m = m_current - (learning_rate* m_gradient)\n",
    "    return [b, m]"
   ]
  },
  {
   "cell_type": "code",
   "execution_count": 5,
   "metadata": {},
   "outputs": [],
   "source": [
    "#gradient_descent function: \n",
    "def gradient_descent(x,y,learning_rate,num_iterations):\n",
    "    b,m=0,0\n",
    "    for i in range(num_iterations):\n",
    "        b,m=step_gradient(b,m,x,y,learning_rate)\n",
    "    return b,m"
   ]
  },
  {
   "cell_type": "code",
   "execution_count": 6,
   "metadata": {},
   "outputs": [],
   "source": [
    "months = [1, 2, 3, 4, 5, 6, 7, 8, 9, 10, 11, 12]\n",
    "revenue = [52, 74, 79, 95, 115, 110, 129, 126, 147, 146, 156, 184]"
   ]
  },
  {
   "cell_type": "code",
   "execution_count": 7,
   "metadata": {},
   "outputs": [],
   "source": [
    "#Call gradient descent function to update b and m\n",
    "b, m = gradient_descent(months, revenue, 0.01, 1000)"
   ]
  },
  {
   "cell_type": "code",
   "execution_count": 8,
   "metadata": {},
   "outputs": [
    {
     "data": {
      "image/png": "[encoded data removed]",
      "text/plain": [
       "<Figure size 432x288 with 1 Axes>"
      ]
     },
     "metadata": {
      "needs_background": "light"
     },
     "output_type": "display_data"
    }
   ],
   "source": [
    "#plot the result\n",
    "y = [m*x + b for x in months]\n",
    "\n",
    "plt.plot(months, revenue, \"o\")\n",
    "plt.plot(months, y)\n",
    "\n",
    "plt.show()"
   ]
  }
 ],
 "metadata": {
  "kernelspec": {
   "display_name": "Python 3",
   "language": "python",
   "name": "python3"
  },
  "language_info": {
   "codemirror_mode": {
    "name": "ipython",
    "version": 3
   },
   "file_extension": ".py",
   "mimetype": "text/x-python",
   "name": "python",
   "nbconvert_exporter": "python",
   "pygments_lexer": "ipython3",
   "version": "3.7.6"
  }
 },
 "nbformat": 4,
 "nbformat_minor": 4
}
