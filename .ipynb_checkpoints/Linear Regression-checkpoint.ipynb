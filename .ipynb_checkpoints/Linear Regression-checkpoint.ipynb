{
 "cells": [
  {
   "cell_type": "markdown",
   "metadata": {},
   "source": [
    "# Linear Regression"
   ]
  },
  {
   "cell_type": "code",
   "execution_count": 1,
   "metadata": {},
   "outputs": [],
   "source": [
    "import matplotlib.pyplot as plt"
   ]
  },
  {
   "cell_type": "code",
   "execution_count": 2,
   "metadata": {},
   "outputs": [],
   "source": [
    "#data set\n",
    "x = [1, 2, 3, 4, 5, 6, 7, 8, 9, 10, 11, 12]\n",
    "y = [52, 74, 79, 95, 115, 110, 129, 126, 147, 146, 156, 184]"
   ]
  },
  {
   "cell_type": "code",
   "execution_count": 3,
   "metadata": {},
   "outputs": [],
   "source": [
    "#Current Slope:\n",
    "m_current = 10\n",
    "#Current Intercept:\n",
    "b_current = 53"
   ]
  },
  {
   "cell_type": "code",
   "execution_count": 4,
   "metadata": {},
   "outputs": [],
   "source": [
    "y_predicted1 = [m_current*x_val + b_current for x_val in x]"
   ]
  },
  {
   "cell_type": "code",
   "execution_count": 5,
   "metadata": {},
   "outputs": [
    {
     "data": {
      "image/png": "[encoded data removed]",
      "text/plain": [
       "<Figure size 432x288 with 1 Axes>"
      ]
     },
     "metadata": {
      "needs_background": "light"
     },
     "output_type": "display_data"
    }
   ],
   "source": [
    "plt.plot(x, y, \"o\")\n",
    "plt.plot(x, y_predicted1)\n",
    "\n",
    "plt.show()"
   ]
  },
  {
   "cell_type": "markdown",
   "metadata": {},
   "source": [
    "### Loss Function | Mean Squared Error"
   ]
  },
  {
   "cell_type": "code",
   "execution_count": 6,
   "metadata": {},
   "outputs": [
    {
     "name": "stdout",
     "output_type": "stream",
     "text": [
      "615\n"
     ]
    }
   ],
   "source": [
    "total_loss = 0\n",
    "for i in range(len(y)):\n",
    "    total_loss += (y[i] - y_predicted[i])**2\n",
    "\n",
    "print(total_loss)"
   ]
  },
  {
   "cell_type": "markdown",
   "metadata": {},
   "source": [
    "### Minimizing Loss | Gradient Descent"
   ]
  },
  {
   "cell_type": "code",
   "execution_count": 7,
   "metadata": {},
   "outputs": [],
   "source": [
    "#Gradient Descent for Intercept\n",
    "def get_gradient_at_b(x, y, b, m):\n",
    "    diff = 0\n",
    "    N=len(x)\n",
    "    for i in range(N):\n",
    "        y_val = y[i]\n",
    "        x_val = x[i]\n",
    "        diff += (y_val - ((m * x_val) + b))\n",
    "\n",
    "    b_gradient = -2/N * diff\n",
    "    return b_gradient"
   ]
  },
  {
   "cell_type": "code",
   "execution_count": 8,
   "metadata": {},
   "outputs": [],
   "source": [
    "#Gradient Descent for Slope\n",
    "def get_gradient_at_m(x,y,b,m):\n",
    "    diff=0\n",
    "    N=len(x)\n",
    "    for i in range(N):\n",
    "        y_val=y[i]\n",
    "        x_val=x[i]\n",
    "        diff+=x[i]*(y_val-((m*x_val)+b))\n",
    "        \n",
    "    m_gradient = (-2/N)*diff\n",
    "    return m_gradient"
   ]
  },
  {
   "cell_type": "code",
   "execution_count": 9,
   "metadata": {},
   "outputs": [],
   "source": [
    "def step_gradient(x,y,b_current,m_current,learning_rate):\n",
    "    b_gradient = get_gradient_at_b(x,y,b_current,m_current)\n",
    "    m_gradient = get_gradient_at_m(x,y,b_current,m_current)\n",
    "\n",
    "    b = b_current - (learning_rate*b_gradient)\n",
    "    m = m_current - (learning_rate*m_gradient)\n",
    "    \n",
    "    return b,m"
   ]
  },
  {
   "cell_type": "code",
   "execution_count": 10,
   "metadata": {},
   "outputs": [],
   "source": [
    "def gradient_descent(x,y,learning_rate,num_iterations):\n",
    "    b,m=0,0\n",
    "    for i in range(num_iterations):\n",
    "        b,m=step_gradient(x,y,b,m,learning_rate)\n",
    "    return b,m"
   ]
  },
  {
   "cell_type": "code",
   "execution_count": 11,
   "metadata": {},
   "outputs": [],
   "source": [
    "#Call function here to update b and m\n",
    "b, m = gradient_descent(x, y, 0.01, 1000)"
   ]
  },
  {
   "cell_type": "code",
   "execution_count": 12,
   "metadata": {},
   "outputs": [
    {
     "data": {
      "image/png": "[encoded data removed]",
      "text/plain": [
       "<Figure size 432x288 with 1 Axes>"
      ]
     },
     "metadata": {
      "needs_background": "light"
     },
     "output_type": "display_data"
    }
   ],
   "source": [
    "#Plot the result\n",
    "y_predicted2 = [m*x_val + b for x_val in x]\n",
    "\n",
    "plt.plot(x, y, \"o\")\n",
    "plt.plot(x, y_predicted2)\n",
    "plt.show()"
   ]
  }
 ],
 "metadata": {
  "kernelspec": {
   "display_name": "Python 3",
   "language": "python",
   "name": "python3"
  },
  "language_info": {
   "codemirror_mode": {
    "name": "ipython",
    "version": 3
   },
   "file_extension": ".py",
   "mimetype": "text/x-python",
   "name": "python",
   "nbconvert_exporter": "python",
   "pygments_lexer": "ipython3",
   "version": "3.7.6"
  }
 },
 "nbformat": 4,
 "nbformat_minor": 4
}
